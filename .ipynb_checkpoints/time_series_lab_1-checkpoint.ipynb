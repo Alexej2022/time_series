{
 "cells": [
  {
   "cell_type": "code",
   "execution_count": 1,
   "id": "a3cf31a9",
   "metadata": {},
   "outputs": [],
   "source": [
    "# Time Series Analysis\n",
    "# Unit 9\n",
    "\n",
    "# Day 1\n",
    "\n",
    "# 9.01 (OPTIONAL) Time Series Analysis\n",
    "\n",
    "# Project Check-in Number 2\n",
    "\n",
    "# Video Recordings -- Time Series\n",
    "\n",
    "# 9.01 (OPTIONAL) Time Series Analysis\n",
    "# LESSON\n",
    "# Lesson Goals\n",
    "# In this lesson we will discover the branch of statistics that deals with time ordered data, also known as time series. \n",
    "# We will learn about the different types of time series, about correlation and auto-correlation, and about different\n",
    "# prediction methods for time series data.\n",
    "\n",
    "# Introduction\n",
    "# So far we have studied data that is static in time. This was important since many models require that we assume \n",
    "\n",
    "\n",
    "\n",
    "# that observations are independent of one another. However, when dealing with time ordered data, many times this \n",
    "# assumption is no longer valid. For example, the temperature observed today is not independent of the temperature\n",
    "# yesterday. Another example is the stock market. Today's stock prices are related to yesterday's stock prices.\n",
    "# In this lesson we will explore how to deal with data that contains such relationships\n",
    "\n",
    "# Time Series Decomposition\n",
    "# One of the ways to overcome the issues caused by having a relationship between the observations is to decompose \n",
    "# the data into components. Typically, we split the data into two types of components - systematic and non-systematic.\n",
    "\n",
    "# Systematic components are components that can have consistency or recurrence.\n",
    "# Non-systematic components cannot be modeled.\n",
    "# We can typically decompose a time series into 4 components - 3 systematic components and one noise component.:\n",
    "\n",
    "# The mean of the series\n",
    "# The seasonality or cyclical pattern of the series\n",
    "# The trend of the series - this component is what we would like to model\n",
    "# The noise is typically the random variation in our data\n",
    "# Time Series Decomposition in Python\n",
    "# We will focus on the statsmodels library for modeling and plotting time series data in Python. \n",
    "# statsmodels contains a function called seasonal_decompose that will allow us to plot\n",
    "# the decomposed time series data."
   ]
  },
  {
   "cell_type": "code",
   "execution_count": 2,
   "id": "5cb7a31e",
   "metadata": {},
   "outputs": [],
   "source": [
    "# For our example, we will use the occupancy dataset."
   ]
  },
  {
   "cell_type": "code",
   "execution_count": 4,
   "id": "1c8b25f3",
   "metadata": {},
   "outputs": [],
   "source": [
    "import pandas as pd"
   ]
  },
  {
   "cell_type": "code",
   "execution_count": 5,
   "id": "f6f9f72d",
   "metadata": {},
   "outputs": [
    {
     "data": {
      "text/html": [
       "<div>\n",
       "<style scoped>\n",
       "    .dataframe tbody tr th:only-of-type {\n",
       "        vertical-align: middle;\n",
       "    }\n",
       "\n",
       "    .dataframe tbody tr th {\n",
       "        vertical-align: top;\n",
       "    }\n",
       "\n",
       "    .dataframe thead th {\n",
       "        text-align: right;\n",
       "    }\n",
       "</style>\n",
       "<table border=\"1\" class=\"dataframe\">\n",
       "  <thead>\n",
       "    <tr style=\"text-align: right;\">\n",
       "      <th></th>\n",
       "      <th>date</th>\n",
       "      <th>Temperature</th>\n",
       "      <th>Humidity</th>\n",
       "      <th>Light</th>\n",
       "      <th>CO2</th>\n",
       "      <th>HumidityRatio</th>\n",
       "      <th>Occupancy</th>\n",
       "    </tr>\n",
       "  </thead>\n",
       "  <tbody>\n",
       "    <tr>\n",
       "      <th>0</th>\n",
       "      <td>2/2/2015 14:00</td>\n",
       "      <td>23.7000</td>\n",
       "      <td>26.272</td>\n",
       "      <td>585.200000</td>\n",
       "      <td>749.200000</td>\n",
       "      <td>0.004764</td>\n",
       "      <td>1</td>\n",
       "    </tr>\n",
       "    <tr>\n",
       "      <th>1</th>\n",
       "      <td>2/2/2015 15:00</td>\n",
       "      <td>23.7180</td>\n",
       "      <td>26.290</td>\n",
       "      <td>578.400000</td>\n",
       "      <td>760.400000</td>\n",
       "      <td>0.004773</td>\n",
       "      <td>1</td>\n",
       "    </tr>\n",
       "    <tr>\n",
       "      <th>2</th>\n",
       "      <td>2/2/2015 16:00</td>\n",
       "      <td>23.7300</td>\n",
       "      <td>26.230</td>\n",
       "      <td>572.666667</td>\n",
       "      <td>769.666667</td>\n",
       "      <td>0.004765</td>\n",
       "      <td>1</td>\n",
       "    </tr>\n",
       "    <tr>\n",
       "      <th>3</th>\n",
       "      <td>2/2/2015 17:00</td>\n",
       "      <td>23.7225</td>\n",
       "      <td>26.125</td>\n",
       "      <td>493.750000</td>\n",
       "      <td>774.750000</td>\n",
       "      <td>0.004744</td>\n",
       "      <td>1</td>\n",
       "    </tr>\n",
       "    <tr>\n",
       "      <th>4</th>\n",
       "      <td>2/2/2015 18:00</td>\n",
       "      <td>23.7540</td>\n",
       "      <td>26.200</td>\n",
       "      <td>488.600000</td>\n",
       "      <td>779.000000</td>\n",
       "      <td>0.004767</td>\n",
       "      <td>1</td>\n",
       "    </tr>\n",
       "  </tbody>\n",
       "</table>\n",
       "</div>"
      ],
      "text/plain": [
       "             date  Temperature  Humidity       Light         CO2  \\\n",
       "0  2/2/2015 14:00      23.7000    26.272  585.200000  749.200000   \n",
       "1  2/2/2015 15:00      23.7180    26.290  578.400000  760.400000   \n",
       "2  2/2/2015 16:00      23.7300    26.230  572.666667  769.666667   \n",
       "3  2/2/2015 17:00      23.7225    26.125  493.750000  774.750000   \n",
       "4  2/2/2015 18:00      23.7540    26.200  488.600000  779.000000   \n",
       "\n",
       "   HumidityRatio  Occupancy  \n",
       "0       0.004764          1  \n",
       "1       0.004773          1  \n",
       "2       0.004765          1  \n",
       "3       0.004744          1  \n",
       "4       0.004767          1  "
      ]
     },
     "execution_count": 5,
     "metadata": {},
     "output_type": "execute_result"
    }
   ],
   "source": [
    "occupancy = pd.read_csv('occupancy.csv')\n",
    "occupancy.head()\n",
    "#  \tdate \tTemperature \tHumidity \tLight \tCO2 \tHumidityRatio \tOccupancy\n",
    "# 0 \t2/2/2015 14:00 \t23.7000 \t26.272 \t585.200000 \t749.200000 \t0.004764 \t1\n",
    "# 1 \t2/2/2015 15:00 \t23.7180 \t26.290 \t578.400000 \t760.400000 \t0.004773 \t1\n",
    "# 2 \t2/2/2015 16:00 \t23.7300 \t26.230 \t572.666667 \t769.666667 \t0.004765 \t1\n",
    "# 3 \t2/2/2015 17:00 \t23.7225 \t26.125 \t493.750000 \t774.750000 \t0.004744 \t1\n",
    "# 4 \t2/2/2015 18:00 \t23.7540 \t26.200 \t488.600000 \t779.000000 \t0.004767 \t1\n"
   ]
  },
  {
   "cell_type": "code",
   "execution_count": 6,
   "id": "b43fed9a",
   "metadata": {},
   "outputs": [],
   "source": [
    "# To plot this data, we must make sure our index is a time series with a known frequency. \n",
    "# To analyze time series data, the data needs to be equally spaced. In the code below, \n",
    "# we will change the type of the date column to datetime and change the index to the \n",
    "# date column. Our frequency is 1 hour. Even though we can see that the difference \n",
    "# between observation is 1 hour, it is not inferred, and we need to specify it ourselves. \n",
    "# To read more about frequencies, look here."
   ]
  },
  {
   "cell_type": "code",
   "execution_count": 7,
   "id": "b5da096c",
   "metadata": {},
   "outputs": [],
   "source": [
    "# https://pandas.pydata.org/pandas-docs/stable/user_guide/timeseries.html#timeseries-offset-aliases"
   ]
  },
  {
   "cell_type": "code",
   "execution_count": 8,
   "id": "2e94bdfa",
   "metadata": {},
   "outputs": [],
   "source": [
    "# Time Series Decomposition"
   ]
  },
  {
   "cell_type": "code",
   "execution_count": 10,
   "id": "b4f064da",
   "metadata": {},
   "outputs": [
    {
     "data": {
      "text/plain": [
       "DatetimeIndex(['2015-02-02 14:00:00', '2015-02-02 15:00:00',\n",
       "               '2015-02-02 16:00:00', '2015-02-02 17:00:00',\n",
       "               '2015-02-02 18:00:00', '2015-02-02 19:00:00',\n",
       "               '2015-02-02 20:00:00', '2015-02-02 21:00:00',\n",
       "               '2015-02-02 22:00:00', '2015-02-02 23:00:00',\n",
       "               ...\n",
       "               '2015-05-24 04:00:00', '2015-05-24 05:00:00',\n",
       "               '2015-05-24 06:00:00', '2015-05-24 07:00:00',\n",
       "               '2015-05-24 08:00:00', '2015-05-24 09:00:00',\n",
       "               '2015-05-24 10:00:00', '2015-05-24 11:00:00',\n",
       "               '2015-05-24 12:00:00', '2015-05-24 13:00:00'],\n",
       "              dtype='datetime64[ns]', name='date', length=2664, freq='H')"
      ]
     },
     "execution_count": 10,
     "metadata": {},
     "output_type": "execute_result"
    }
   ],
   "source": [
    "occupancy.date = pd.to_datetime(occupancy.date)\n",
    "occupancy.index = pd.DatetimeIndex(occupancy.date, freq='H')\n",
    "occupancy.index\n",
    "# DatetimeIndex(['2015-02-02 14:00:00', '2015-02-02 15:00:00',\n",
    "#                '2015-02-02 16:00:00', '2015-02-02 17:00:00',\n",
    "#                '2015-02-02 18:00:00', '2015-02-02 19:00:00',\n",
    "#                '2015-02-02 20:00:00', '2015-02-02 21:00:00',\n",
    "#                '2015-02-02 22:00:00', '2015-02-02 23:00:00',\n",
    "#                ...\n",
    "#                '2015-05-24 04:00:00', '2015-05-24 05:00:00',\n",
    "#                '2015-05-24 06:00:00', '2015-05-24 07:00:00',\n",
    "#                '2015-05-24 08:00:00', '2015-05-24 09:00:00',\n",
    "#                '2015-05-24 10:00:00', '2015-05-24 11:00:00',\n",
    "#                '2015-05-24 12:00:00', '2015-05-24 13:00:00'],\n",
    "#               dtype='datetime64[ns]', name='date', length=2664, freq='H')\n"
   ]
  },
  {
   "cell_type": "code",
   "execution_count": 11,
   "id": "4a6cd180",
   "metadata": {},
   "outputs": [],
   "source": [
    "# Now we can plot the decomposed time series."
   ]
  },
  {
   "cell_type": "code",
   "execution_count": 12,
   "id": "b8108dfd",
   "metadata": {},
   "outputs": [
    {
     "data": {
      "image/png": "[encoded data removed]",
      "text/plain": [
       "<Figure size 640x480 with 4 Axes>"
      ]
     },
     "metadata": {},
     "output_type": "display_data"
    }
   ],
   "source": [
    "import statsmodels.api as sm\n",
    "\n",
    "res = sm.tsa.seasonal_decompose(occupancy.CO2)\n",
    "resplot = res.plot()\n"
   ]
  },
  {
   "cell_type": "code",
   "execution_count": 13,
   "id": "b0da16a6",
   "metadata": {},
   "outputs": [],
   "source": [
    "# Autoregression\n",
    "# An autoregressive model is a model that uses previous observations in the time series to predict the \n",
    "# next value in the model. In previous lessons, we have looked at linear models where the response \n",
    "# variable depends only on the predictor variables and the linear regression equation is of the form:\n",
    "\n",
    "# linear regression\n",
    "\n",
    "# However, when working with time series data, our response variable depends not only on the predictor \n",
    "# variables but also on the response variable itself. A variable that depends on itself is called an \n",
    "# autocorrelated variable. Typically, our regression equation will be of the form below. The equation \n",
    "# below is an autoregressive model that depends only on the previous time period.\n",
    "\n",
    "# ar model\n",
    "\n",
    "# Our model can also depend on more than one time period in the past.\n",
    "\n",
    "# Checking for Autocorrelation\n",
    "# We can check for autocorrelation in our data using a lag plot. This plot will plot y t \n",
    "# against y t-1. Pandas has a function called lag_plot for detecting these relationships."
   ]
  },
  {
   "cell_type": "code",
   "execution_count": 14,
   "id": "a1e6ca48",
   "metadata": {},
   "outputs": [
    {
     "ename": "ModuleNotFoundError",
     "evalue": "No module named 'pandas.tools'",
     "output_type": "error",
     "traceback": [
      "\u001b[1;31m---------------------------------------------------------------------------\u001b[0m",
      "\u001b[1;31mModuleNotFoundError\u001b[0m                       Traceback (most recent call last)",
      "\u001b[1;32m~\\AppData\\Local\\Temp\\ipykernel_7824\\1792714483.py\u001b[0m in \u001b[0;36m<module>\u001b[1;34m\u001b[0m\n\u001b[1;32m----> 1\u001b[1;33m \u001b[1;32mfrom\u001b[0m \u001b[0mpandas\u001b[0m\u001b[1;33m.\u001b[0m\u001b[0mtools\u001b[0m\u001b[1;33m.\u001b[0m\u001b[0mplotting\u001b[0m \u001b[1;32mimport\u001b[0m \u001b[0mlag_plot\u001b[0m\u001b[1;33m\u001b[0m\u001b[1;33m\u001b[0m\u001b[0m\n\u001b[0m\u001b[0;32m      2\u001b[0m \u001b[1;33m\u001b[0m\u001b[0m\n\u001b[0;32m      3\u001b[0m \u001b[0mlag_plot\u001b[0m\u001b[1;33m(\u001b[0m\u001b[0moccupancy\u001b[0m\u001b[1;33m.\u001b[0m\u001b[0mCO2\u001b[0m\u001b[1;33m)\u001b[0m\u001b[1;33m\u001b[0m\u001b[1;33m\u001b[0m\u001b[0m\n\u001b[0;32m      4\u001b[0m \u001b[1;33m\u001b[0m\u001b[0m\n",
      "\u001b[1;31mModuleNotFoundError\u001b[0m: No module named 'pandas.tools'"
     ]
    }
   ],
   "source": [
    "from pandas.tools.plotting import lag_plot\n",
    "\n",
    "lag_plot(occupancy.CO2)\n",
    "\n"
   ]
  },
  {
   "cell_type": "code",
   "execution_count": 15,
   "id": "1b4f2211",
   "metadata": {},
   "outputs": [
    {
     "data": {
      "text/plain": [
       "<AxesSubplot:xlabel='y(t)', ylabel='y(t + 1)'>"
      ]
     },
     "execution_count": 15,
     "metadata": {},
     "output_type": "execute_result"
    },
    {
     "data": {
      "image/png": "[encoded data removed]",
      "text/plain": [
       "<Figure size 640x480 with 1 Axes>"
      ]
     },
     "metadata": {},
     "output_type": "display_data"
    }
   ],
   "source": [
    "from pandas.plotting import lag_plot\n",
    "\n",
    "lag_plot(occupancy.CO2)\n"
   ]
  },
  {
   "cell_type": "code",
   "execution_count": 16,
   "id": "c5509ed7",
   "metadata": {},
   "outputs": [],
   "source": [
    "# A line along the diagonal shows that there is an autoregressive relationship.\n",
    "\n",
    "# To create an autoregressive model we use the AR function. Typically, we note an autoregressive model \n",
    "# with the notation AR(n) where n is the number of lag periods. In the example below, we will create an\n",
    "# autoregressive model with lag 1 to model the rate of CO2. In the example below, we limit the\n",
    "# lag periods to 1. However, if we do not set a limit, the model may contain more lag periods.\n",
    "\n",
    "# Note that we split the data into test and train and always use the last few observations when\n",
    "# working with time series data. We do this to ensure that the model gives good predictions even on data\n",
    "# it has not seen. Since the data is ordered, we cannot select the test data at random."
   ]
  },
  {
   "cell_type": "code",
   "execution_count": 17,
   "id": "f486b38d",
   "metadata": {},
   "outputs": [
    {
     "ename": "NotImplementedError",
     "evalue": "AR has been removed from statsmodels and replaced with statsmodels.tsa.ar_model.AutoReg.",
     "output_type": "error",
     "traceback": [
      "\u001b[1;31m---------------------------------------------------------------------------\u001b[0m",
      "\u001b[1;31mNotImplementedError\u001b[0m                       Traceback (most recent call last)",
      "\u001b[1;32m~\\AppData\\Local\\Temp\\ipykernel_7824\\1416225236.py\u001b[0m in \u001b[0;36m<module>\u001b[1;34m\u001b[0m\n\u001b[0;32m      2\u001b[0m \u001b[1;33m\u001b[0m\u001b[0m\n\u001b[0;32m      3\u001b[0m \u001b[0mtrain\u001b[0m\u001b[1;33m,\u001b[0m \u001b[0mtest\u001b[0m \u001b[1;33m=\u001b[0m \u001b[0moccupancy\u001b[0m\u001b[1;33m.\u001b[0m\u001b[0mCO2\u001b[0m\u001b[1;33m[\u001b[0m\u001b[1;33m:\u001b[0m\u001b[1;33m-\u001b[0m\u001b[1;36m10\u001b[0m\u001b[1;33m]\u001b[0m\u001b[1;33m,\u001b[0m \u001b[0moccupancy\u001b[0m\u001b[1;33m.\u001b[0m\u001b[0mCO2\u001b[0m\u001b[1;33m[\u001b[0m\u001b[1;33m-\u001b[0m\u001b[1;36m10\u001b[0m\u001b[1;33m:\u001b[0m\u001b[1;33m]\u001b[0m\u001b[1;33m\u001b[0m\u001b[1;33m\u001b[0m\u001b[0m\n\u001b[1;32m----> 4\u001b[1;33m \u001b[0mmodel\u001b[0m \u001b[1;33m=\u001b[0m \u001b[0mAR\u001b[0m\u001b[1;33m(\u001b[0m\u001b[0moccupancy\u001b[0m\u001b[1;33m.\u001b[0m\u001b[0mCO2\u001b[0m\u001b[1;33m)\u001b[0m\u001b[1;33m\u001b[0m\u001b[1;33m\u001b[0m\u001b[0m\n\u001b[0m\u001b[0;32m      5\u001b[0m \u001b[0mmodel_fit\u001b[0m \u001b[1;33m=\u001b[0m \u001b[0mmodel\u001b[0m\u001b[1;33m.\u001b[0m\u001b[0mfit\u001b[0m\u001b[1;33m(\u001b[0m\u001b[0mmaxlag\u001b[0m\u001b[1;33m=\u001b[0m\u001b[1;36m1\u001b[0m\u001b[1;33m)\u001b[0m\u001b[1;33m\u001b[0m\u001b[1;33m\u001b[0m\u001b[0m\n\u001b[0;32m      6\u001b[0m \u001b[0mpredictions\u001b[0m \u001b[1;33m=\u001b[0m \u001b[0mmodel_fit\u001b[0m\u001b[1;33m.\u001b[0m\u001b[0mpredict\u001b[0m\u001b[1;33m(\u001b[0m\u001b[0mstart\u001b[0m\u001b[1;33m=\u001b[0m\u001b[0mlen\u001b[0m\u001b[1;33m(\u001b[0m\u001b[0mtrain\u001b[0m\u001b[1;33m)\u001b[0m\u001b[1;33m,\u001b[0m \u001b[0mend\u001b[0m\u001b[1;33m=\u001b[0m\u001b[0mlen\u001b[0m\u001b[1;33m(\u001b[0m\u001b[0mtrain\u001b[0m\u001b[1;33m)\u001b[0m\u001b[1;33m+\u001b[0m\u001b[0mlen\u001b[0m\u001b[1;33m(\u001b[0m\u001b[0mtest\u001b[0m\u001b[1;33m)\u001b[0m\u001b[1;33m-\u001b[0m\u001b[1;36m1\u001b[0m\u001b[1;33m,\u001b[0m \u001b[0mdynamic\u001b[0m\u001b[1;33m=\u001b[0m\u001b[1;32mFalse\u001b[0m\u001b[1;33m)\u001b[0m\u001b[1;33m\u001b[0m\u001b[1;33m\u001b[0m\u001b[0m\n",
      "\u001b[1;32m~\\anaconda3\\lib\\site-packages\\statsmodels\\tsa\\ar_model.py\u001b[0m in \u001b[0;36m__init__\u001b[1;34m(self, *args, **kwargs)\u001b[0m\n\u001b[0;32m    820\u001b[0m \u001b[1;33m\u001b[0m\u001b[0m\n\u001b[0;32m    821\u001b[0m     \u001b[1;32mdef\u001b[0m \u001b[0m__init__\u001b[0m\u001b[1;33m(\u001b[0m\u001b[0mself\u001b[0m\u001b[1;33m,\u001b[0m \u001b[1;33m*\u001b[0m\u001b[0margs\u001b[0m\u001b[1;33m,\u001b[0m \u001b[1;33m**\u001b[0m\u001b[0mkwargs\u001b[0m\u001b[1;33m)\u001b[0m\u001b[1;33m:\u001b[0m\u001b[1;33m\u001b[0m\u001b[1;33m\u001b[0m\u001b[0m\n\u001b[1;32m--> 822\u001b[1;33m         raise NotImplementedError(\n\u001b[0m\u001b[0;32m    823\u001b[0m             \u001b[1;34m\"AR has been removed from statsmodels and replaced with \"\u001b[0m\u001b[1;33m\u001b[0m\u001b[1;33m\u001b[0m\u001b[0m\n\u001b[0;32m    824\u001b[0m             \u001b[1;34m\"statsmodels.tsa.ar_model.AutoReg.\"\u001b[0m\u001b[1;33m\u001b[0m\u001b[1;33m\u001b[0m\u001b[0m\n",
      "\u001b[1;31mNotImplementedError\u001b[0m: AR has been removed from statsmodels and replaced with statsmodels.tsa.ar_model.AutoReg."
     ]
    }
   ],
   "source": [
    "from statsmodels.tsa.ar_model import AR\n",
    "\n",
    "train, test = occupancy.CO2[:-10], occupancy.CO2[-10:]\n",
    "model = AR(occupancy.CO2)\n",
    "model_fit = model.fit(maxlag=1)\n",
    "predictions = model_fit.predict(start=len(train), end=len(train)+len(test)-1, dynamic=False)\n"
   ]
  },
  {
   "cell_type": "code",
   "execution_count": 18,
   "id": "2b2507bb",
   "metadata": {},
   "outputs": [],
   "source": [
    "from statsmodels.tsa.ar_model import AutoReg\n",
    "\n",
    "train, test = occupancy.CO2[:-10], occupancy.CO2[-10:]\n",
    "model = AutoReg(train, lags=1)\n",
    "model_fit = model.fit()\n",
    "predictions = model_fit.predict(start=len(train), end=len(train)+len(test)-1, dynamic=False)\n"
   ]
  },
  {
   "cell_type": "code",
   "execution_count": 19,
   "id": "f6b34646",
   "metadata": {},
   "outputs": [],
   "source": [
    "# Like linear regression, this model produces coefficients for the autoregressive model as well as predictions.\n",
    "\n"
   ]
  },
  {
   "cell_type": "code",
   "execution_count": 24,
   "id": "730bc1aa",
   "metadata": {},
   "outputs": [
    {
     "name": "stdout",
     "output_type": "stream",
     "text": [
      "const    -0.029427\n",
      "CO2.L1    1.000253\n",
      "dtype: float64\n"
     ]
    }
   ],
   "source": [
    "print(model_fit.params)\n",
    "# const     0.001078\n",
    "# L1.CO2    1.000195\n",
    "# dtype: float64\n",
    "\n",
    "\n"
   ]
  },
  {
   "cell_type": "code",
   "execution_count": 23,
   "id": "797bd1bf",
   "metadata": {},
   "outputs": [
    {
     "data": {
      "text/html": [
       "<div>\n",
       "<style scoped>\n",
       "    .dataframe tbody tr th:only-of-type {\n",
       "        vertical-align: middle;\n",
       "    }\n",
       "\n",
       "    .dataframe tbody tr th {\n",
       "        vertical-align: top;\n",
       "    }\n",
       "\n",
       "    .dataframe thead th {\n",
       "        text-align: right;\n",
       "    }\n",
       "</style>\n",
       "<table border=\"1\" class=\"dataframe\">\n",
       "  <thead>\n",
       "    <tr style=\"text-align: right;\">\n",
       "      <th></th>\n",
       "      <th>observed</th>\n",
       "      <th>predicted</th>\n",
       "    </tr>\n",
       "  </thead>\n",
       "  <tbody>\n",
       "    <tr>\n",
       "      <th>2015-05-24 04:00:00</th>\n",
       "      <td>1153.250000</td>\n",
       "      <td>1152.762619</td>\n",
       "    </tr>\n",
       "    <tr>\n",
       "      <th>2015-05-24 05:00:00</th>\n",
       "      <td>1152.400000</td>\n",
       "      <td>1153.025305</td>\n",
       "    </tr>\n",
       "    <tr>\n",
       "      <th>2015-05-24 06:00:00</th>\n",
       "      <td>1146.166667</td>\n",
       "      <td>1153.288058</td>\n",
       "    </tr>\n",
       "    <tr>\n",
       "      <th>2015-05-24 07:00:00</th>\n",
       "      <td>1145.400000</td>\n",
       "      <td>1153.550877</td>\n",
       "    </tr>\n",
       "    <tr>\n",
       "      <th>2015-05-24 08:00:00</th>\n",
       "      <td>1140.800000</td>\n",
       "      <td>1153.813763</td>\n",
       "    </tr>\n",
       "    <tr>\n",
       "      <th>2015-05-24 09:00:00</th>\n",
       "      <td>1150.250000</td>\n",
       "      <td>1154.076715</td>\n",
       "    </tr>\n",
       "    <tr>\n",
       "      <th>2015-05-24 10:00:00</th>\n",
       "      <td>1129.200000</td>\n",
       "      <td>1154.339734</td>\n",
       "    </tr>\n",
       "    <tr>\n",
       "      <th>2015-05-24 11:00:00</th>\n",
       "      <td>1125.800000</td>\n",
       "      <td>1154.602820</td>\n",
       "    </tr>\n",
       "    <tr>\n",
       "      <th>2015-05-24 12:00:00</th>\n",
       "      <td>1123.000000</td>\n",
       "      <td>1154.865972</td>\n",
       "    </tr>\n",
       "    <tr>\n",
       "      <th>2015-05-24 13:00:00</th>\n",
       "      <td>1124.000000</td>\n",
       "      <td>1155.129191</td>\n",
       "    </tr>\n",
       "  </tbody>\n",
       "</table>\n",
       "</div>"
      ],
      "text/plain": [
       "                        observed    predicted\n",
       "2015-05-24 04:00:00  1153.250000  1152.762619\n",
       "2015-05-24 05:00:00  1152.400000  1153.025305\n",
       "2015-05-24 06:00:00  1146.166667  1153.288058\n",
       "2015-05-24 07:00:00  1145.400000  1153.550877\n",
       "2015-05-24 08:00:00  1140.800000  1153.813763\n",
       "2015-05-24 09:00:00  1150.250000  1154.076715\n",
       "2015-05-24 10:00:00  1129.200000  1154.339734\n",
       "2015-05-24 11:00:00  1125.800000  1154.602820\n",
       "2015-05-24 12:00:00  1123.000000  1154.865972\n",
       "2015-05-24 13:00:00  1124.000000  1155.129191"
      ]
     },
     "execution_count": 23,
     "metadata": {},
     "output_type": "execute_result"
    }
   ],
   "source": [
    "pd.DataFrame({'observed':test, 'predicted':predictions})\n",
    "#  \t                observed \tpredicted\n",
    "# date \t\t\n",
    "# 2015-05-24 04:00:00 \t1153.250000 \t1152.725379\n",
    "# 2015-05-24 05:00:00 \t1152.400000 \t1153.475525\n",
    "# 2015-05-24 06:00:00 \t1146.166667 \t1152.625359\n",
    "# 2015-05-24 07:00:00 \t1145.400000 \t1146.390813\n",
    "# 2015-05-24 08:00:00 \t1140.800000 \t1145.623997\n",
    "# 2015-05-24 09:00:00 \t1150.250000 \t1141.023102\n",
    "# 2015-05-24 10:00:00 \t1129.200000 \t1150.474941\n",
    "# 2015-05-24 11:00:00 \t1125.800000 \t1129.420844\n",
    "# 2015-05-24 12:00:00 \t1123.000000 \t1126.020182\n",
    "# 2015-05-24 13:00:00 \t1124.000000 \t1123.219637"
   ]
  },
  {
   "cell_type": "code",
   "execution_count": 25,
   "id": "eebe5cae",
   "metadata": {},
   "outputs": [],
   "source": [
    "# Stationarity\n",
    "# A time series is considered stationary if its mean and variance do not vary over time. \n",
    "# While we cannot consider a stationary time series to be independent, stationarity is a \n",
    "# dependence structure that can help us with a number of modeling techniques.\n",
    "# To check whether we have a stationary time series, we can either examine the \n",
    "# decomposition plot visually, compute the mean and standard deviation over time, \n",
    "# or use statistical tests. One possible test is the Augmented Dickey-Fuller test. \n",
    "# This test has the following hypothesis:\n",
    "\n",
    "# H 0: The data is not stationary\n",
    "\n",
    "# H 1: The data is stationary\n",
    "\n",
    "# We test stationarity using the adrfuller function in statsmodels. \n",
    "# The example below demonstrates this with our CO2 data. \n",
    "# The adrfuller function returns multiple values. The second position in the data structure returned \n",
    "# is the p-value of our hypothesis."
   ]
  },
  {
   "cell_type": "code",
   "execution_count": 26,
   "id": "f0c94d0e",
   "metadata": {},
   "outputs": [
    {
     "data": {
      "text/plain": [
       "0.06822624483241019"
      ]
     },
     "execution_count": 26,
     "metadata": {},
     "output_type": "execute_result"
    }
   ],
   "source": [
    "from statsmodels.tsa.stattools import adfuller\n",
    "\n",
    "adfuller(occupancy.CO2)[1]\n",
    "# 0.06822624483241028\n"
   ]
  },
  {
   "cell_type": "code",
   "execution_count": 27,
   "id": "637027d8",
   "metadata": {},
   "outputs": [],
   "source": [
    "# The p-value is greater than 0.05. Therefore, with a 95% confidence interval, we do not reject the null hypothesis\n",
    "# and conclude that the data is not stationary.\n",
    "\n",
    "# Random Walks\n",
    "# A random walk is a type of time series model where each observation depends on the sum of the previous observation\n",
    "# and a random noise component. The formal notation for this is:\n",
    "\n",
    "# random walk equation\n",
    "\n",
    "# Random walks are considered non-stationary because the covariance between observations is time dependent.\n",
    "\n",
    "# Moving Average\n",
    "# Moving average models are similar to autoregressive models. Moving average models also depend on a linear \n",
    "# combination of past data. However, unlike autoregressive models, these models depend on past white noise terms. \n",
    "# While the name is the same, moving average models are not the same as calculating \n",
    "# the moving average of a time series.\n",
    "\n",
    "# Moving average models are typically noted with MA(q) where q is the number of past white noise terms summed \n",
    "# by the model. For example, a first order moving average model will be noted by:\n",
    "\n",
    "# moving average model\n",
    "\n",
    "# Note that the errors are normally distributed with mean 0 and variance σ ω.\n",
    "\n",
    "# We can create a moving average model using the ARMA function in the statsmodels package. \n",
    "# This function generates models that can have both an autoregressive component as well as a moving average component. \n",
    "# However, here we will set the autoregressive lag to zero to create only a moving average model. \n",
    "# Let's use our CO2 data again for this example."
   ]
  },
  {
   "cell_type": "code",
   "execution_count": 29,
   "id": "2285f40d",
   "metadata": {},
   "outputs": [
    {
     "ename": "NotImplementedError",
     "evalue": "\nstatsmodels.tsa.arima_model.ARMA and statsmodels.tsa.arima_model.ARIMA have\nbeen removed in favor of statsmodels.tsa.arima.model.ARIMA (note the .\nbetween arima and model) and statsmodels.tsa.SARIMAX.\n\nstatsmodels.tsa.arima.model.ARIMA makes use of the statespace framework and\nis both well tested and maintained. It also offers alternative specialized\nparameter estimators.\n",
     "output_type": "error",
     "traceback": [
      "\u001b[1;31m---------------------------------------------------------------------------\u001b[0m",
      "\u001b[1;31mNotImplementedError\u001b[0m                       Traceback (most recent call last)",
      "\u001b[1;32m~\\AppData\\Local\\Temp\\ipykernel_7824\\121119424.py\u001b[0m in \u001b[0;36m<module>\u001b[1;34m\u001b[0m\n\u001b[0;32m      1\u001b[0m \u001b[1;32mfrom\u001b[0m \u001b[0mstatsmodels\u001b[0m\u001b[1;33m.\u001b[0m\u001b[0mtsa\u001b[0m\u001b[1;33m.\u001b[0m\u001b[0marima_model\u001b[0m \u001b[1;32mimport\u001b[0m \u001b[0mARMA\u001b[0m\u001b[1;33m\u001b[0m\u001b[1;33m\u001b[0m\u001b[0m\n\u001b[0;32m      2\u001b[0m \u001b[1;33m\u001b[0m\u001b[0m\n\u001b[1;32m----> 3\u001b[1;33m \u001b[0mmodel\u001b[0m \u001b[1;33m=\u001b[0m \u001b[0mARMA\u001b[0m\u001b[1;33m(\u001b[0m\u001b[0moccupancy\u001b[0m\u001b[1;33m.\u001b[0m\u001b[0mCO2\u001b[0m\u001b[1;33m,\u001b[0m \u001b[0morder\u001b[0m\u001b[1;33m=\u001b[0m\u001b[1;33m(\u001b[0m\u001b[1;36m0\u001b[0m\u001b[1;33m,\u001b[0m \u001b[1;36m1\u001b[0m\u001b[1;33m)\u001b[0m\u001b[1;33m)\u001b[0m\u001b[1;33m\u001b[0m\u001b[1;33m\u001b[0m\u001b[0m\n\u001b[0m\u001b[0;32m      4\u001b[0m \u001b[0mmodel_fit\u001b[0m \u001b[1;33m=\u001b[0m \u001b[0mmodel\u001b[0m\u001b[1;33m.\u001b[0m\u001b[0mfit\u001b[0m\u001b[1;33m(\u001b[0m\u001b[0mdisp\u001b[0m\u001b[1;33m=\u001b[0m\u001b[1;32mFalse\u001b[0m\u001b[1;33m)\u001b[0m\u001b[1;33m\u001b[0m\u001b[1;33m\u001b[0m\u001b[0m\n\u001b[0;32m      5\u001b[0m \u001b[0mpredictions\u001b[0m \u001b[1;33m=\u001b[0m \u001b[0mmodel_fit\u001b[0m\u001b[1;33m.\u001b[0m\u001b[0mpredict\u001b[0m\u001b[1;33m(\u001b[0m\u001b[0mlen\u001b[0m\u001b[1;33m(\u001b[0m\u001b[0moccupancy\u001b[0m\u001b[1;33m.\u001b[0m\u001b[0mCO2\u001b[0m\u001b[1;33m)\u001b[0m\u001b[1;33m-\u001b[0m\u001b[1;36m3\u001b[0m\u001b[1;33m,\u001b[0m \u001b[0mlen\u001b[0m\u001b[1;33m(\u001b[0m\u001b[0moccupancy\u001b[0m\u001b[1;33m.\u001b[0m\u001b[0mCO2\u001b[0m\u001b[1;33m)\u001b[0m\u001b[1;33m-\u001b[0m\u001b[1;36m1\u001b[0m\u001b[1;33m)\u001b[0m\u001b[1;33m\u001b[0m\u001b[1;33m\u001b[0m\u001b[0m\n",
      "\u001b[1;32m~\\anaconda3\\lib\\site-packages\\statsmodels\\tsa\\arima_model.py\u001b[0m in \u001b[0;36m__init__\u001b[1;34m(self, *args, **kwargs)\u001b[0m\n\u001b[0;32m     27\u001b[0m \u001b[1;33m\u001b[0m\u001b[0m\n\u001b[0;32m     28\u001b[0m     \u001b[1;32mdef\u001b[0m \u001b[0m__init__\u001b[0m\u001b[1;33m(\u001b[0m\u001b[0mself\u001b[0m\u001b[1;33m,\u001b[0m \u001b[1;33m*\u001b[0m\u001b[0margs\u001b[0m\u001b[1;33m,\u001b[0m \u001b[1;33m**\u001b[0m\u001b[0mkwargs\u001b[0m\u001b[1;33m)\u001b[0m\u001b[1;33m:\u001b[0m\u001b[1;33m\u001b[0m\u001b[1;33m\u001b[0m\u001b[0m\n\u001b[1;32m---> 29\u001b[1;33m         \u001b[1;32mraise\u001b[0m \u001b[0mNotImplementedError\u001b[0m\u001b[1;33m(\u001b[0m\u001b[0mARIMA_DEPRECATION_ERROR\u001b[0m\u001b[1;33m)\u001b[0m\u001b[1;33m\u001b[0m\u001b[1;33m\u001b[0m\u001b[0m\n\u001b[0m\u001b[0;32m     30\u001b[0m \u001b[1;33m\u001b[0m\u001b[0m\n\u001b[0;32m     31\u001b[0m \u001b[1;33m\u001b[0m\u001b[0m\n",
      "\u001b[1;31mNotImplementedError\u001b[0m: \nstatsmodels.tsa.arima_model.ARMA and statsmodels.tsa.arima_model.ARIMA have\nbeen removed in favor of statsmodels.tsa.arima.model.ARIMA (note the .\nbetween arima and model) and statsmodels.tsa.SARIMAX.\n\nstatsmodels.tsa.arima.model.ARIMA makes use of the statespace framework and\nis both well tested and maintained. It also offers alternative specialized\nparameter estimators.\n"
     ]
    }
   ],
   "source": [
    "from statsmodels.tsa.arima_model import ARMA\n",
    "\n",
    "model = ARMA(occupancy.CO2, order=(0, 1))\n",
    "model_fit = model.fit(disp=False)\n",
    "predictions = model_fit.predict(len(occupancy.CO2)-3, len(occupancy.CO2)-1)\n"
   ]
  },
  {
   "cell_type": "code",
   "execution_count": 36,
   "id": "c615ecfe",
   "metadata": {},
   "outputs": [
    {
     "ename": "TypeError",
     "evalue": "fit() got an unexpected keyword argument 'disp'",
     "output_type": "error",
     "traceback": [
      "\u001b[1;31m---------------------------------------------------------------------------\u001b[0m",
      "\u001b[1;31mTypeError\u001b[0m                                 Traceback (most recent call last)",
      "\u001b[1;32m~\\AppData\\Local\\Temp\\ipykernel_7824\\1283982981.py\u001b[0m in \u001b[0;36m<module>\u001b[1;34m\u001b[0m\n\u001b[0;32m      2\u001b[0m \u001b[1;33m\u001b[0m\u001b[0m\n\u001b[0;32m      3\u001b[0m \u001b[0mmodel\u001b[0m \u001b[1;33m=\u001b[0m \u001b[0mARIMA\u001b[0m\u001b[1;33m(\u001b[0m\u001b[0moccupancy\u001b[0m\u001b[1;33m.\u001b[0m\u001b[0mCO2\u001b[0m\u001b[1;33m,\u001b[0m \u001b[0morder\u001b[0m\u001b[1;33m=\u001b[0m\u001b[1;33m(\u001b[0m\u001b[1;36m0\u001b[0m\u001b[1;33m,\u001b[0m \u001b[1;36m0\u001b[0m\u001b[1;33m,\u001b[0m \u001b[1;36m1\u001b[0m\u001b[1;33m)\u001b[0m\u001b[1;33m)\u001b[0m\u001b[1;33m\u001b[0m\u001b[1;33m\u001b[0m\u001b[0m\n\u001b[1;32m----> 4\u001b[1;33m \u001b[0mmodel_fit\u001b[0m \u001b[1;33m=\u001b[0m \u001b[0mmodel\u001b[0m\u001b[1;33m.\u001b[0m\u001b[0mfit\u001b[0m\u001b[1;33m(\u001b[0m\u001b[0mdisp\u001b[0m\u001b[1;33m=\u001b[0m\u001b[1;32mFalse\u001b[0m\u001b[1;33m)\u001b[0m\u001b[1;33m\u001b[0m\u001b[1;33m\u001b[0m\u001b[0m\n\u001b[0m\u001b[0;32m      5\u001b[0m \u001b[0mpredictions\u001b[0m \u001b[1;33m=\u001b[0m \u001b[0mmodel_fit\u001b[0m\u001b[1;33m.\u001b[0m\u001b[0mpredict\u001b[0m\u001b[1;33m(\u001b[0m\u001b[0mlen\u001b[0m\u001b[1;33m(\u001b[0m\u001b[0moccupancy\u001b[0m\u001b[1;33m.\u001b[0m\u001b[0mCO2\u001b[0m\u001b[1;33m)\u001b[0m\u001b[1;33m-\u001b[0m\u001b[1;36m3\u001b[0m\u001b[1;33m,\u001b[0m \u001b[0mlen\u001b[0m\u001b[1;33m(\u001b[0m\u001b[0moccupancy\u001b[0m\u001b[1;33m.\u001b[0m\u001b[0mCO2\u001b[0m\u001b[1;33m)\u001b[0m\u001b[1;33m-\u001b[0m\u001b[1;36m1\u001b[0m\u001b[1;33m,\u001b[0m \u001b[0mtyp\u001b[0m\u001b[1;33m=\u001b[0m\u001b[1;34m'levels'\u001b[0m\u001b[1;33m)\u001b[0m\u001b[1;33m\u001b[0m\u001b[1;33m\u001b[0m\u001b[0m\n",
      "\u001b[1;31mTypeError\u001b[0m: fit() got an unexpected keyword argument 'disp'"
     ]
    }
   ],
   "source": [
    "from statsmodels.tsa.arima.model import ARIMA\n",
    "\n",
    "model = ARIMA(occupancy.CO2, order=(0, 0, 1))\n",
    "model_fit = model.fit(disp=False)\n",
    "predictions = model_fit.predict(len(occupancy.CO2)-3, len(occupancy.CO2)-1, typ='levels')\n"
   ]
  },
  {
   "cell_type": "code",
   "execution_count": 37,
   "id": "9339d6cc",
   "metadata": {},
   "outputs": [
    {
     "name": "stderr",
     "output_type": "stream",
     "text": [
      "C:\\Users\\it-it\\anaconda3\\lib\\site-packages\\statsmodels\\tsa\\statespace\\sarimax.py:978: UserWarning: Non-invertible starting MA parameters found. Using zeros as starting parameters.\n",
      "  warn('Non-invertible starting MA parameters found.'\n"
     ]
    }
   ],
   "source": [
    "from statsmodels.tsa.arima.model import ARIMA\n",
    "\n",
    "model = ARIMA(occupancy.CO2, order=(0, 0, 1))\n",
    "model_fit = model.fit()\n",
    "predictions = model_fit.predict(len(occupancy.CO2)-3, len(occupancy.CO2)-1, typ='levels')\n"
   ]
  },
  {
   "cell_type": "code",
   "execution_count": 40,
   "id": "e90710d2",
   "metadata": {},
   "outputs": [
    {
     "name": "stderr",
     "output_type": "stream",
     "text": [
      "C:\\Users\\it-it\\anaconda3\\lib\\site-packages\\statsmodels\\tsa\\statespace\\sarimax.py:966: UserWarning: Non-stationary starting autoregressive parameters found. Using zeros as starting parameters.\n",
      "  warn('Non-stationary starting autoregressive parameters'\n"
     ]
    }
   ],
   "source": [
    "from statsmodels.tsa.arima.model import ARIMA\n",
    "\n",
    "model = ARIMA(occupancy.CO2, order=(1, 0, 1))\n",
    "model_fit = model.fit()\n",
    "predictions = model_fit.predict(len(occupancy.CO2)-3, len(occupancy.CO2)-1, typ='levels')\n"
   ]
  },
  {
   "cell_type": "code",
   "execution_count": 30,
   "id": "d8ebde1f",
   "metadata": {},
   "outputs": [],
   "source": [
    "# Let's look at the predictions:\n",
    "\n"
   ]
  },
  {
   "cell_type": "code",
   "execution_count": 41,
   "id": "360d5fd2",
   "metadata": {},
   "outputs": [
    {
     "data": {
      "text/html": [
       "<div>\n",
       "<style scoped>\n",
       "    .dataframe tbody tr th:only-of-type {\n",
       "        vertical-align: middle;\n",
       "    }\n",
       "\n",
       "    .dataframe tbody tr th {\n",
       "        vertical-align: top;\n",
       "    }\n",
       "\n",
       "    .dataframe thead th {\n",
       "        text-align: right;\n",
       "    }\n",
       "</style>\n",
       "<table border=\"1\" class=\"dataframe\">\n",
       "  <thead>\n",
       "    <tr style=\"text-align: right;\">\n",
       "      <th></th>\n",
       "      <th>observed</th>\n",
       "      <th>predicted</th>\n",
       "    </tr>\n",
       "    <tr>\n",
       "      <th>date</th>\n",
       "      <th></th>\n",
       "      <th></th>\n",
       "    </tr>\n",
       "  </thead>\n",
       "  <tbody>\n",
       "    <tr>\n",
       "      <th>2015-05-24 11:00:00</th>\n",
       "      <td>1125.8</td>\n",
       "      <td>1123.357820</td>\n",
       "    </tr>\n",
       "    <tr>\n",
       "      <th>2015-05-24 12:00:00</th>\n",
       "      <td>1123.0</td>\n",
       "      <td>1126.295699</td>\n",
       "    </tr>\n",
       "    <tr>\n",
       "      <th>2015-05-24 13:00:00</th>\n",
       "      <td>1124.0</td>\n",
       "      <td>1122.097556</td>\n",
       "    </tr>\n",
       "  </tbody>\n",
       "</table>\n",
       "</div>"
      ],
      "text/plain": [
       "                     observed    predicted\n",
       "date                                      \n",
       "2015-05-24 11:00:00    1125.8  1123.357820\n",
       "2015-05-24 12:00:00    1123.0  1126.295699\n",
       "2015-05-24 13:00:00    1124.0  1122.097556"
      ]
     },
     "execution_count": 41,
     "metadata": {},
     "output_type": "execute_result"
    }
   ],
   "source": [
    "pd.DataFrame({'observed':occupancy.CO2[-3:], 'predicted':predictions})\n",
    "#  \tobserved \tpredicted\n",
    "# date \t\t\n",
    "# 2015-05-24 11:00:00 \t1125.8 \t926.765185\n",
    "# 2015-05-24 12:00:00 \t1123.0 \t915.381418\n",
    "# 2015-05-24 13:00:00 \t1124.0 \t923.899751\n"
   ]
  },
  {
   "cell_type": "code",
   "execution_count": null,
   "id": "b57f976c",
   "metadata": {},
   "outputs": [],
   "source": []
  },
  {
   "cell_type": "code",
   "execution_count": 42,
   "id": "497cce81",
   "metadata": {},
   "outputs": [],
   "source": [
    "# We can see that this model alone is not a great fit for this data since there is a \n",
    "# big difference between observed and predicted.\n",
    "\n"
   ]
  },
  {
   "cell_type": "markdown",
   "id": "1ede7398",
   "metadata": {},
   "source": [
    "# Combining Autoregression with Moving Average\n"
   ]
  },
  {
   "cell_type": "code",
   "execution_count": 43,
   "id": "735dc232",
   "metadata": {},
   "outputs": [],
   "source": [
    "# As we have seen in the previous paragraph, we can create a model with both an autoregressive component\n",
    "# and a moving average component. This model is called an ARMA model and is denoted by ARMA(n, q) \n",
    "# where n is the number of lag periods and q is the number of past white noise terms. \n",
    "# Below is an example of an ARMA model with two lag terms and one white noise term."
   ]
  },
  {
   "cell_type": "code",
   "execution_count": 44,
   "id": "5060aaa0",
   "metadata": {},
   "outputs": [
    {
     "ename": "NotImplementedError",
     "evalue": "\nstatsmodels.tsa.arima_model.ARMA and statsmodels.tsa.arima_model.ARIMA have\nbeen removed in favor of statsmodels.tsa.arima.model.ARIMA (note the .\nbetween arima and model) and statsmodels.tsa.SARIMAX.\n\nstatsmodels.tsa.arima.model.ARIMA makes use of the statespace framework and\nis both well tested and maintained. It also offers alternative specialized\nparameter estimators.\n",
     "output_type": "error",
     "traceback": [
      "\u001b[1;31m---------------------------------------------------------------------------\u001b[0m",
      "\u001b[1;31mNotImplementedError\u001b[0m                       Traceback (most recent call last)",
      "\u001b[1;32m~\\AppData\\Local\\Temp\\ipykernel_7824\\1383922841.py\u001b[0m in \u001b[0;36m<module>\u001b[1;34m\u001b[0m\n\u001b[0;32m      2\u001b[0m \u001b[1;33m\u001b[0m\u001b[0m\n\u001b[0;32m      3\u001b[0m \u001b[1;31m# fit model\u001b[0m\u001b[1;33m\u001b[0m\u001b[1;33m\u001b[0m\u001b[0m\n\u001b[1;32m----> 4\u001b[1;33m \u001b[0mmodel\u001b[0m \u001b[1;33m=\u001b[0m \u001b[0mARMA\u001b[0m\u001b[1;33m(\u001b[0m\u001b[0moccupancy\u001b[0m\u001b[1;33m.\u001b[0m\u001b[0mCO2\u001b[0m\u001b[1;33m,\u001b[0m \u001b[0morder\u001b[0m\u001b[1;33m=\u001b[0m\u001b[1;33m(\u001b[0m\u001b[1;36m2\u001b[0m\u001b[1;33m,\u001b[0m \u001b[1;36m1\u001b[0m\u001b[1;33m)\u001b[0m\u001b[1;33m)\u001b[0m\u001b[1;33m\u001b[0m\u001b[1;33m\u001b[0m\u001b[0m\n\u001b[0m\u001b[0;32m      5\u001b[0m \u001b[0mmodel_fit\u001b[0m \u001b[1;33m=\u001b[0m \u001b[0mmodel\u001b[0m\u001b[1;33m.\u001b[0m\u001b[0mfit\u001b[0m\u001b[1;33m(\u001b[0m\u001b[0mdisp\u001b[0m\u001b[1;33m=\u001b[0m\u001b[1;32mFalse\u001b[0m\u001b[1;33m)\u001b[0m\u001b[1;33m\u001b[0m\u001b[1;33m\u001b[0m\u001b[0m\n\u001b[0;32m      6\u001b[0m \u001b[1;31m# make prediction\u001b[0m\u001b[1;33m\u001b[0m\u001b[1;33m\u001b[0m\u001b[0m\n",
      "\u001b[1;32m~\\anaconda3\\lib\\site-packages\\statsmodels\\tsa\\arima_model.py\u001b[0m in \u001b[0;36m__init__\u001b[1;34m(self, *args, **kwargs)\u001b[0m\n\u001b[0;32m     27\u001b[0m \u001b[1;33m\u001b[0m\u001b[0m\n\u001b[0;32m     28\u001b[0m     \u001b[1;32mdef\u001b[0m \u001b[0m__init__\u001b[0m\u001b[1;33m(\u001b[0m\u001b[0mself\u001b[0m\u001b[1;33m,\u001b[0m \u001b[1;33m*\u001b[0m\u001b[0margs\u001b[0m\u001b[1;33m,\u001b[0m \u001b[1;33m**\u001b[0m\u001b[0mkwargs\u001b[0m\u001b[1;33m)\u001b[0m\u001b[1;33m:\u001b[0m\u001b[1;33m\u001b[0m\u001b[1;33m\u001b[0m\u001b[0m\n\u001b[1;32m---> 29\u001b[1;33m         \u001b[1;32mraise\u001b[0m \u001b[0mNotImplementedError\u001b[0m\u001b[1;33m(\u001b[0m\u001b[0mARIMA_DEPRECATION_ERROR\u001b[0m\u001b[1;33m)\u001b[0m\u001b[1;33m\u001b[0m\u001b[1;33m\u001b[0m\u001b[0m\n\u001b[0m\u001b[0;32m     30\u001b[0m \u001b[1;33m\u001b[0m\u001b[0m\n\u001b[0;32m     31\u001b[0m \u001b[1;33m\u001b[0m\u001b[0m\n",
      "\u001b[1;31mNotImplementedError\u001b[0m: \nstatsmodels.tsa.arima_model.ARMA and statsmodels.tsa.arima_model.ARIMA have\nbeen removed in favor of statsmodels.tsa.arima.model.ARIMA (note the .\nbetween arima and model) and statsmodels.tsa.SARIMAX.\n\nstatsmodels.tsa.arima.model.ARIMA makes use of the statespace framework and\nis both well tested and maintained. It also offers alternative specialized\nparameter estimators.\n"
     ]
    }
   ],
   "source": [
    "from statsmodels.tsa.arima_model import ARMA\n",
    "\n",
    "# fit model\n",
    "model = ARMA(occupancy.CO2, order=(2, 1))\n",
    "model_fit = model.fit(disp=False)\n",
    "# make prediction\n",
    "predictions = model_fit.predict(len(occupancy.CO2)-3, len(occupancy.CO2)-1)\n"
   ]
  },
  {
   "cell_type": "code",
   "execution_count": 45,
   "id": "2fb2131e",
   "metadata": {},
   "outputs": [
    {
     "ename": "TypeError",
     "evalue": "fit() got an unexpected keyword argument 'disp'",
     "output_type": "error",
     "traceback": [
      "\u001b[1;31m---------------------------------------------------------------------------\u001b[0m",
      "\u001b[1;31mTypeError\u001b[0m                                 Traceback (most recent call last)",
      "\u001b[1;32m~\\AppData\\Local\\Temp\\ipykernel_7824\\3074440950.py\u001b[0m in \u001b[0;36m<module>\u001b[1;34m\u001b[0m\n\u001b[0;32m      3\u001b[0m \u001b[1;31m# fit model\u001b[0m\u001b[1;33m\u001b[0m\u001b[1;33m\u001b[0m\u001b[0m\n\u001b[0;32m      4\u001b[0m \u001b[0mmodel\u001b[0m \u001b[1;33m=\u001b[0m \u001b[0mARIMA\u001b[0m\u001b[1;33m(\u001b[0m\u001b[0moccupancy\u001b[0m\u001b[1;33m.\u001b[0m\u001b[0mCO2\u001b[0m\u001b[1;33m,\u001b[0m \u001b[0morder\u001b[0m\u001b[1;33m=\u001b[0m\u001b[1;33m(\u001b[0m\u001b[1;36m2\u001b[0m\u001b[1;33m,\u001b[0m \u001b[1;36m0\u001b[0m\u001b[1;33m,\u001b[0m \u001b[1;36m1\u001b[0m\u001b[1;33m)\u001b[0m\u001b[1;33m)\u001b[0m\u001b[1;33m\u001b[0m\u001b[1;33m\u001b[0m\u001b[0m\n\u001b[1;32m----> 5\u001b[1;33m \u001b[0mmodel_fit\u001b[0m \u001b[1;33m=\u001b[0m \u001b[0mmodel\u001b[0m\u001b[1;33m.\u001b[0m\u001b[0mfit\u001b[0m\u001b[1;33m(\u001b[0m\u001b[0mdisp\u001b[0m\u001b[1;33m=\u001b[0m\u001b[1;32mFalse\u001b[0m\u001b[1;33m)\u001b[0m\u001b[1;33m\u001b[0m\u001b[1;33m\u001b[0m\u001b[0m\n\u001b[0m\u001b[0;32m      6\u001b[0m \u001b[1;33m\u001b[0m\u001b[0m\n\u001b[0;32m      7\u001b[0m \u001b[1;31m# make prediction\u001b[0m\u001b[1;33m\u001b[0m\u001b[1;33m\u001b[0m\u001b[0m\n",
      "\u001b[1;31mTypeError\u001b[0m: fit() got an unexpected keyword argument 'disp'"
     ]
    }
   ],
   "source": [
    "from statsmodels.tsa.arima.model import ARIMA\n",
    "\n",
    "# fit model\n",
    "model = ARIMA(occupancy.CO2, order=(2, 0, 1))\n",
    "model_fit = model.fit(disp=False)\n",
    "\n",
    "# make prediction\n",
    "yhat = model_fit.predict(len(occupancy.CO2), len(occupancy.CO2))\n"
   ]
  },
  {
   "cell_type": "code",
   "execution_count": 46,
   "id": "9966949b",
   "metadata": {},
   "outputs": [
    {
     "name": "stderr",
     "output_type": "stream",
     "text": [
      "C:\\Users\\it-it\\anaconda3\\lib\\site-packages\\statsmodels\\tsa\\statespace\\sarimax.py:966: UserWarning: Non-stationary starting autoregressive parameters found. Using zeros as starting parameters.\n",
      "  warn('Non-stationary starting autoregressive parameters'\n"
     ]
    },
    {
     "name": "stdout",
     "output_type": "stream",
     "text": [
      "                               SARIMAX Results                                \n",
      "==============================================================================\n",
      "Dep. Variable:                    CO2   No. Observations:                 2664\n",
      "Model:                 ARIMA(2, 0, 1)   Log Likelihood               -8160.412\n",
      "Date:                Wed, 01 Mar 2023   AIC                          16330.823\n",
      "Time:                        22:21:04   BIC                          16360.261\n",
      "Sample:                    02-02-2015   HQIC                         16341.476\n",
      "                         - 05-24-2015                                         \n",
      "Covariance Type:                  opg                                         \n",
      "==============================================================================\n",
      "                 coef    std err          z      P>|z|      [0.025      0.975]\n",
      "------------------------------------------------------------------------------\n",
      "const        756.4237      8.659     87.360      0.000     739.453     773.394\n",
      "ar.L1          1.9997   6.85e-05   2.92e+04      0.000       2.000       2.000\n",
      "ar.L2         -0.9997   6.81e-05  -1.47e+04      0.000      -1.000      -1.000\n",
      "ma.L1         -0.9999      0.005   -201.961      0.000      -1.010      -0.990\n",
      "sigma2        26.6842      0.341     78.306      0.000      26.016      27.352\n",
      "===================================================================================\n",
      "Ljung-Box (L1) (Q):                 123.66   Jarque-Bera (JB):             10329.72\n",
      "Prob(Q):                              0.00   Prob(JB):                         0.00\n",
      "Heteroskedasticity (H):               0.73   Skew:                            -0.55\n",
      "Prob(H) (two-sided):                  0.00   Kurtosis:                        12.58\n",
      "===================================================================================\n",
      "\n",
      "Warnings:\n",
      "[1] Covariance matrix calculated using the outer product of gradients (complex-step).\n"
     ]
    }
   ],
   "source": [
    "from statsmodels.tsa.arima.model import ARIMA\n",
    "\n",
    "# fit model\n",
    "model = ARIMA(occupancy.CO2, order=(2, 0, 1))\n",
    "model_fit = model.fit()\n",
    "\n",
    "# print summary\n",
    "print(model_fit.summary())\n",
    "\n",
    "# make prediction\n",
    "yhat = model_fit.predict(len(occupancy.CO2), len(occupancy.CO2))\n"
   ]
  },
  {
   "cell_type": "code",
   "execution_count": null,
   "id": "887b1cfa",
   "metadata": {},
   "outputs": [],
   "source": [
    "# Conclusion\n",
    "# In this lesson we were introduced to a number of basic concepts in time series modeling. \n",
    "# Time series models require different treatment than linear models. We learned about the\n",
    "# different components of a time series and how to plot them. We learned about stationarity,\n",
    "# random walks, and autoregressive and moving average models. This introduction should provide you with the tools \n",
    "# to evaluate and model time ordered data."
   ]
  }
 ],
 "metadata": {
  "kernelspec": {
   "display_name": "Python 3 (ipykernel)",
   "language": "python",
   "name": "python3"
  },
  "language_info": {
   "codemirror_mode": {
    "name": "ipython",
    "version": 3
   },
   "file_extension": ".py",
   "mimetype": "text/x-python",
   "name": "python",
   "nbconvert_exporter": "python",
   "pygments_lexer": "ipython3",
   "version": "3.9.13"
  }
 },
 "nbformat": 4,
 "nbformat_minor": 5
}
